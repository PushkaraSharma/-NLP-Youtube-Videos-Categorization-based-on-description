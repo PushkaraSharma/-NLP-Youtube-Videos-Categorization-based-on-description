{
 "cells": [
  {
   "cell_type": "code",
   "execution_count": 2,
   "metadata": {},
   "outputs": [],
   "source": [
    "import pandas as pd\n",
    "import numpy as np"
   ]
  },
  {
   "cell_type": "code",
   "execution_count": 3,
   "metadata": {},
   "outputs": [],
   "source": [
    "df = pd.read_csv('output_youtube.csv')\n",
    "df.columns = ['Video_id','Title','Description','Category']\n",
    "df = df.drop_duplicates()"
   ]
  },
  {
   "cell_type": "code",
   "execution_count": 4,
   "metadata": {},
   "outputs": [
    {
     "data": {
      "text/plain": [
       "food vlogs                129\n",
       "science and technology    121\n",
       "history                   117\n",
       "manufacturing             113\n",
       "travel vlogs              102\n",
       "art and music              97\n",
       "Name: Category, dtype: int64"
      ]
     },
     "execution_count": 4,
     "metadata": {},
     "output_type": "execute_result"
    }
   ],
   "source": [
    "df = df.sort_values(by=['Category'])\n",
    "df = df.reset_index(drop=True)\n",
    "df2 = df.drop(df.index[220:300])\n",
    "df2['Category'].value_counts()"
   ]
  },
  {
   "cell_type": "code",
   "execution_count": 5,
   "metadata": {},
   "outputs": [],
   "source": [
    "X = df2['Description'].tolist()\n",
    "Y = df2['Category'].tolist()"
   ]
  },
  {
   "cell_type": "code",
   "execution_count": 6,
   "metadata": {},
   "outputs": [],
   "source": [
    "import string\n",
    "def bag_words(words):\n",
    "    words = words.encode('ascii','ignore')\n",
    "    words = str(words)\n",
    "    words = words.lower()\n",
    "    processed = words.replace(r'^\\w+@[a-zA-Z_]+?\\.[a-zA-Z]{2,3}$', 'email')\n",
    "    processed = processed.replace(r'^\\D?(\\d{3})\\D?\\D?(\\d{3})\\D?(\\d{4})$', 'phoneno')\n",
    "    processed = processed.replace(\n",
    "        r'^(http(s?)\\:\\/\\/)*[0-9a-zA-Z]([-.\\w]*[0-9a-zA-Z])*(:(0-9)*)*(\\/?)([a-zA-Z0-9\\-\\.\\?\\,\\'\\/\\\\\\+&amp;%\\$#_]*)?$',\n",
    "       'website')\n",
    "    processed = processed.replace(r'$|\\£|\\€', 'money')\n",
    "    processed = processed.replace(r'\\d+(\\.\\d+)?', 'number')\n",
    "    processed = processed.replace(r'^\\s+|\\s+?$', '')\n",
    "    processed = processed.replace(r'\\s+', ' ')\n",
    "    processed = processed.replace(string.punctuation,'')\n",
    "    processed = processed.replace('=','')\n",
    "    processed = processed.replace('|','')\n",
    "    processed = processed.replace('.','')\n",
    "    processed = processed.replace('!','')\n",
    "    processed = processed.replace('-','')\n",
    "    processed = processed.replace('_','')\n",
    "    processed = processed.replace('//','')\n",
    "    processed = processed.replace(\"/\",'')\n",
    "    return processed"
   ]
  },
  {
   "cell_type": "code",
   "execution_count": 7,
   "metadata": {},
   "outputs": [],
   "source": [
    "X1 = []\n",
    "for i in X:\n",
    "    X1.append(bag_words(i))"
   ]
  },
  {
   "cell_type": "code",
   "execution_count": 8,
   "metadata": {},
   "outputs": [],
   "source": [
    "from sklearn.feature_extraction.text import TfidfVectorizer\n",
    "from sklearn.linear_model import LogisticRegression"
   ]
  },
  {
   "cell_type": "code",
   "execution_count": 9,
   "metadata": {},
   "outputs": [],
   "source": [
    "tf = TfidfVectorizer(stop_words='english')\n",
    "X2 = tf.fit_transform(X1)"
   ]
  },
  {
   "cell_type": "code",
   "execution_count": 10,
   "metadata": {},
   "outputs": [],
   "source": [
    "from sklearn.model_selection import train_test_split\n",
    "train_x,test_x,train_y,test_y=train_test_split(X2,Y,test_size = 0.25)"
   ]
  },
  {
   "cell_type": "code",
   "execution_count": 11,
   "metadata": {},
   "outputs": [
    {
     "name": "stderr",
     "output_type": "stream",
     "text": [
      "C:\\Users\\dell\\Anaconda3\\lib\\site-packages\\sklearn\\linear_model\\logistic.py:433: FutureWarning: Default solver will be changed to 'lbfgs' in 0.22. Specify a solver to silence this warning.\n",
      "  FutureWarning)\n",
      "C:\\Users\\dell\\Anaconda3\\lib\\site-packages\\sklearn\\linear_model\\logistic.py:460: FutureWarning: Default multi_class will be changed to 'auto' in 0.22. Specify the multi_class option to silence this warning.\n",
      "  \"this warning.\", FutureWarning)\n"
     ]
    },
    {
     "data": {
      "text/plain": [
       "LogisticRegression(C=1.0, class_weight=None, dual=False, fit_intercept=True,\n",
       "          intercept_scaling=1, max_iter=100, multi_class='warn',\n",
       "          n_jobs=None, penalty='l2', random_state=None, solver='warn',\n",
       "          tol=0.0001, verbose=0, warm_start=False)"
      ]
     },
     "execution_count": 11,
     "metadata": {},
     "output_type": "execute_result"
    }
   ],
   "source": [
    "log = LogisticRegression()\n",
    "log.fit(train_x,train_y)"
   ]
  },
  {
   "cell_type": "code",
   "execution_count": 12,
   "metadata": {},
   "outputs": [],
   "source": [
    "pred_y = log.predict(test_x)"
   ]
  },
  {
   "cell_type": "code",
   "execution_count": 13,
   "metadata": {},
   "outputs": [
    {
     "data": {
      "text/plain": [
       "0.9529411764705882"
      ]
     },
     "execution_count": 13,
     "metadata": {},
     "output_type": "execute_result"
    }
   ],
   "source": [
    "from sklearn.metrics import accuracy_score\n",
    "accuracy_score(test_y,pred_y)"
   ]
  },
  {
   "cell_type": "code",
   "execution_count": 14,
   "metadata": {},
   "outputs": [
    {
     "data": {
      "text/plain": [
       "array([[23,  0,  0,  0,  0,  0],\n",
       "       [ 0, 35,  0,  0,  0,  2],\n",
       "       [ 0,  1, 32,  0,  0,  0],\n",
       "       [ 0,  1,  1, 32,  1,  0],\n",
       "       [ 0,  0,  0,  0, 23,  0],\n",
       "       [ 0,  2,  0,  0,  0, 17]], dtype=int64)"
      ]
     },
     "execution_count": 14,
     "metadata": {},
     "output_type": "execute_result"
    }
   ],
   "source": [
    "from sklearn.metrics import confusion_matrix\n",
    "confusion_matrix(test_y,pred_y)"
   ]
  },
  {
   "cell_type": "code",
   "execution_count": 15,
   "metadata": {},
   "outputs": [
    {
     "data": {
      "text/plain": [
       "['science and technology',\n",
       " 'art and music',\n",
       " 'manufacturing',\n",
       " 'science and technology',\n",
       " 'travel vlogs',\n",
       " 'travel vlogs',\n",
       " 'science and technology',\n",
       " 'history',\n",
       " 'manufacturing',\n",
       " 'food vlogs']"
      ]
     },
     "execution_count": 15,
     "metadata": {},
     "output_type": "execute_result"
    }
   ],
   "source": [
    "test_y[:10]"
   ]
  },
  {
   "cell_type": "code",
   "execution_count": 16,
   "metadata": {},
   "outputs": [
    {
     "data": {
      "text/plain": [
       "array(['science and technology', 'art and music', 'manufacturing',\n",
       "       'science and technology', 'travel vlogs', 'travel vlogs',\n",
       "       'science and technology', 'history', 'manufacturing', 'food vlogs'],\n",
       "      dtype='<U22')"
      ]
     },
     "execution_count": 16,
     "metadata": {},
     "output_type": "execute_result"
    }
   ],
   "source": [
    "pred_y[:10]"
   ]
  },
  {
   "cell_type": "code",
   "execution_count": 17,
   "metadata": {},
   "outputs": [],
   "source": [
    "from sklearn.naive_bayes import MultinomialNB"
   ]
  },
  {
   "cell_type": "code",
   "execution_count": 46,
   "metadata": {},
   "outputs": [],
   "source": [
    "test_1 = 'Grand Studio proudly presents the new Punjabi song \"Mere Wala Sardar\" Make sure you subscribe and never miss a video: http://bit.ly/SubscribeGRANDSTUDIOLabel :- Grand Studio Song:-Mere Wala Sardar Singer:-Jugraj Sandhu Lyricist & Composer:- Urs GuriProducer:-Kamaljeet Singh Music:- Dr.shree Mix Masters-Dr.db Studios Flute:Atul Krishan Video By- Burj Shah Group Director-Bhindder Burj DOP-Arundeep Teji Asst.DOP-LATE.Natha Editor-Inder Rattaul Associate Director-Joben Dhillon Production Designer-Vipin Kamboj Potography by-Shiv Rana Project Handled by-Amandeep Singh,Harpreet Sandhu,RJT Female Artist-Sardarni Preet Promotion - Grand Studio'\n",
    "test_2 = 'I traveled to Rohtang pass from manali in July, found snow there. Road from Manali to Rohtang is good for first 35 kms but 15 kms short of Rohtang you will experience as deadly road. Most dangerous road, where stones can fall any time on vehicle traffic. Some of my experiences about this route as shown in this video are shared below. You may want to support this channel: https://www.patreon.com/visa2explore Distance from manali to Rohtang: 51 kmsAverage time taken by taxi: 2 and a half hours. Places to stop in between: Marhi - 35 kms from Manali Rahalla waterfall: 28 kms from manali, good place to spend 15 to 20 minutes. Type of road: Dangerous and risky, sharp turns, curves,  landslide can happen any time, stones can fall on vehicle traffic. Best time to travel:15th  May to September, while you may travel there in November as well, but it is super cold, Rohtang pass is open for the period 15th May to 30th November, there after due to heavy snowfall roads closed. Scenic beauty: Too good to be explained in one video, this is perhaps the reason why people travel this route despite experiencing dangerous roads with landslides that can prove fatal. We experienced snow in July, did lot of playing in the snow.Temperature at Rohtang pass on in 2nd week of July : 6 to 8 degrees. Height : Located at 8050 feet above sea level. Important suggestions basis my experiences about Rohtang: Try taking an exclusive taxi or go by HP tourism bus- start ealry in morning and try to reach back Manali by 5 pm. So your exposure to deadly roads is limited to daytime only. Daily basis permit is given to only 1200 vehicles, be careful to book in advance especially during season time, permits can be an issue. If you are traveling through you own vehicle you can get permit online as well, cost of permit is Rs 550 for car or taxi. Bikes do not get permit for Rohtang. I saw a deadly accident on the way, a huge size stone had fallen on a car, Thank God nobody got injured, driver and fellow passenger got saved, incident shown in thiAbout the creator of this video: Myself - Harish Bali - I love to travel to places and explore food at various destinations. During july 2017 1st week i decided to go to Manali and explore Himalayas. As part of this trip i stayed in Manali for more than 7 days and during this period explored various places to visit in and around Manali. You may also check other related video on Manali, few days back i published video on off road track to Bijli Mahadev temple, have a look at that video as well, link shared below. https://www.youtube.com/watch?v=m8LML... Travel and food is my hobbie, i use this channel - visa2explore to share my experiences on food and travel for others to benefit. Should you have any query related to travel to Rohtang pass - please feel free to ask that in comments below. I would love to answer on the same. thanks for your time'"
   ]
  },
  {
   "cell_type": "code",
   "execution_count": 47,
   "metadata": {},
   "outputs": [
    {
     "name": "stdout",
     "output_type": "stream",
     "text": [
      "['travel vlogs']\n",
      "['history']\n"
     ]
    }
   ],
   "source": [
    "test2 = bag_words(test_2)\n",
    "test2 = tf.transform([test2])\n",
    "print(log.predict(test2))\n",
    "\n",
    "test1 = bag_words(test_1)\n",
    "test1 = tf.transform([test1])\n",
    "print(log.predict(test1))"
   ]
  },
  {
   "cell_type": "code",
   "execution_count": 35,
   "metadata": {},
   "outputs": [
    {
     "data": {
      "text/plain": [
       "MultinomialNB(alpha=1.0, class_prior=None, fit_prior=True)"
      ]
     },
     "execution_count": 35,
     "metadata": {},
     "output_type": "execute_result"
    }
   ],
   "source": [
    "nb = MultinomialNB()\n",
    "nb.fit(train_x,train_y)"
   ]
  },
  {
   "cell_type": "code",
   "execution_count": 36,
   "metadata": {},
   "outputs": [],
   "source": [
    "pred_y2 = nb.predict(test_x)"
   ]
  },
  {
   "cell_type": "code",
   "execution_count": 37,
   "metadata": {},
   "outputs": [
    {
     "data": {
      "text/plain": [
       "0.9294117647058824"
      ]
     },
     "execution_count": 37,
     "metadata": {},
     "output_type": "execute_result"
    }
   ],
   "source": [
    "accuracy_score(test_y,pred_y2)"
   ]
  },
  {
   "cell_type": "code",
   "execution_count": 48,
   "metadata": {},
   "outputs": [
    {
     "name": "stdout",
     "output_type": "stream",
     "text": [
      "['travel vlogs']\n",
      "['food vlogs']\n"
     ]
    }
   ],
   "source": [
    "print(nb.predict(test2))\n",
    "print(nb.predict(test1))\n"
   ]
  },
  {
   "cell_type": "code",
   "execution_count": null,
   "metadata": {},
   "outputs": [],
   "source": [
    "#nltk"
   ]
  }
 ],
 "metadata": {
  "kernelspec": {
   "display_name": "Python 3",
   "language": "python",
   "name": "python3"
  },
  "language_info": {
   "codemirror_mode": {
    "name": "ipython",
    "version": 3
   },
   "file_extension": ".py",
   "mimetype": "text/x-python",
   "name": "python",
   "nbconvert_exporter": "python",
   "pygments_lexer": "ipython3",
   "version": "3.7.3"
  }
 },
 "nbformat": 4,
 "nbformat_minor": 2
}
